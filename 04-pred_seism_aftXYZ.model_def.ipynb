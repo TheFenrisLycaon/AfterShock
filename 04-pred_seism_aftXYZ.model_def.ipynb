{
 "cells": [
  {
   "cell_type": "markdown",
   "metadata": {},
   "source": [
    "# Model Definition\n",
    "\n",
    "Model definition step for the project '**Aftershock pattern prediction based on earthquake rupture data for improved seismic hazard assessment**' DeVries18 will refer to the article 'Deep learning of aftershock patterns following large earthquakes' by Phoebe M. R. DeVries, Fernanda Viégas, Martin Wattenberg & Brendan J. Meade, and published in Nature in 2018 (https://www.nature.com/articles/s41586-018-0438-y )."
   ]
  },
  {
   "cell_type": "code",
   "execution_count": 1,
   "metadata": {},
   "outputs": [
    {
     "name": "stderr",
     "output_type": "stream",
     "text": [
      "2022-05-05 16:52:59.205797: W tensorflow/stream_executor/platform/default/dso_loader.cc:64] Could not load dynamic library 'libcudart.so.11.0'; dlerror: libcudart.so.11.0: cannot open shared object file: No such file or directory\n",
      "2022-05-05 16:52:59.205919: I tensorflow/stream_executor/cuda/cudart_stub.cc:29] Ignore above cudart dlerror if you do not have a GPU set up on your machine.\n"
     ]
    }
   ],
   "source": [
    "from keras.models import Sequential\n",
    "from keras.layers import Dense, Activation, Dropout\n",
    "from keras import optimizers\n",
    "from keras import initializers\n",
    "from keras import metrics"
   ]
  },
  {
   "cell_type": "markdown",
   "metadata": {},
   "source": [
    "## Define baseline model (DeVries18)\n",
    "\n",
    "We here reproduce the DeVries18 deep learning model = six hidden layers with 50 neurons each and hyperbolic tangent activation functions (13,451 weights and biases in total)."
   ]
  },
  {
   "cell_type": "code",
   "execution_count": 13,
   "metadata": {},
   "outputs": [],
   "source": [
    "# same model as in https://github.com/phoebemrdevries/Learning-aftershock-location-patterns"
   ]
  },
  {
   "cell_type": "code",
   "execution_count": 3,
   "metadata": {},
   "outputs": [],
   "source": [
    "def create_baselinemodel_DeVries18():\n",
    "    model = Sequential()\n",
    "    model.add(Dense(50, input_dim=12, kernel_initializer='lecun_uniform', activation = 'tanh'))\n",
    "    model.add(Dropout(0.50))\n",
    "    model.add(Dense(50, kernel_initializer='lecun_uniform', activation= 'tanh'))\n",
    "    model.add(Dropout(0.50))\n",
    "    model.add(Dense(50, kernel_initializer='lecun_uniform', activation= 'tanh'))\n",
    "    model.add(Dropout(0.50))\n",
    "    model.add(Dense(50, kernel_initializer='lecun_uniform', activation= 'tanh'))\n",
    "    model.add(Dropout(0.50))\n",
    "    model.add(Dense(50, kernel_initializer='lecun_uniform', activation= 'tanh'))\n",
    "    model.add(Dropout(0.50))\n",
    "    model.add(Dense(50, kernel_initializer='lecun_uniform', activation= 'tanh'))\n",
    "    model.add(Dropout(0.50))\n",
    "    model.add(Dense(1, kernel_initializer='lecun_uniform', activation='sigmoid'))\n",
    "    model.compile(optimizer='adadelta', loss='binary_crossentropy', metrics=[metrics.binary_accuracy])\n",
    "    return model\n",
    "\n",
    "create_baselinemodel_DeVries18().save('./Models/model_baseline_prev.h5')"
   ]
  },
  {
   "cell_type": "markdown",
   "metadata": {},
   "source": [
    "## Define new models\n",
    "\n",
    "### Define simplified DNN for DeVries18 features\n",
    "\n",
    "Since the DeVries model has a 12-neuron input layer, we first verify whether a much simpler Deep Neural Network (DNN) topology can lead to similar results. We also reduce the dropout rate. We keep everything else the same (i.e. kernel_initializer, activation, optimizer, loss). This model is for illustration purposes only. A different model with different features is proposed in this project (see below)."
   ]
  },
  {
   "cell_type": "code",
   "execution_count": 4,
   "metadata": {},
   "outputs": [],
   "source": [
    "def create_baselinemodel_DeVries18_simplified():\n",
    "    model = Sequential()\n",
    "    model.add(Dense(8, input_dim=12, kernel_initializer='lecun_uniform', activation = 'tanh'))\n",
    "    model.add(Dropout(0.20))\n",
    "    model.add(Dense(8, kernel_initializer='lecun_uniform', activation= 'tanh'))\n",
    "    model.add(Dropout(0.20))\n",
    "    model.add(Dense(1, kernel_initializer='lecun_uniform', activation='sigmoid'))\n",
    "    model.compile(optimizer='adadelta', loss='binary_crossentropy', metrics=[metrics.binary_accuracy])\n",
    "    return model\n",
    "\n",
    "create_baselinemodel_DeVries18_simplified().save('./Models/model_baseline_DeVries18_simplified_init.h5')"
   ]
  },
  {
   "cell_type": "markdown",
   "metadata": {},
   "source": [
    "### Define new DNN for new features\n",
    "\n",
    "We use more direct features than in DeVries18, here based on geometry/kinematics instead of stress. We further simplify the topology of the DNN compared to the baseline."
   ]
  },
  {
   "cell_type": "code",
   "execution_count": 5,
   "metadata": {},
   "outputs": [],
   "source": [
    "from keras.models import Sequential\n",
    "from keras.layers import Dense, Activation, Dropout\n",
    "from keras import optimizers\n",
    "from keras import initializers\n",
    "from keras import metrics\n",
    "\n",
    "def create_model_DNN():\n",
    "    model = Sequential()\n",
    "    model.add(Dense(6, input_dim=2, kernel_initializer='lecun_uniform', activation = 'relu'))\n",
    "    model.add(Dropout(0.20))\n",
    "    model.add(Dense(6, kernel_initializer='lecun_uniform', activation= 'relu'))\n",
    "    model.add(Dropout(0.20))\n",
    "    model.add(Dense(1, kernel_initializer='lecun_uniform', activation='sigmoid'))\n",
    "    model.compile(optimizer='adadelta', loss='binary_crossentropy', metrics=[metrics.binary_accuracy])\n",
    "    return model\n",
    "\n",
    "# metrics = binary accuracy as in the baseline model.\n",
    "# AUC not being supported by Keras, we will only use it during final model evaluation (as presented also in DeVries18).\n",
    "# Binary accuracy is a common metric for binary classification. However the Area Under the Receiver-Operating Characteristic (ROC) Curve (AUC)\n",
    "# will provide more information than the accuracy by considering all possible classification threshold values.\n",
    "\n",
    "create_model_DNN().save('./Models/model_DNN_init.h5')"
   ]
  },
  {
   "cell_type": "markdown",
   "metadata": {},
   "source": [
    "### Define ANN for new features\n",
    "\n",
    "We also test a shallow Artificial Neural Network (ANN) (i.e. no deep learning, only one hidden layer).\n",
    "\n",
    "NB: During training, we will also test another standard machine learning algorithm (XGBoost) for completeness."
   ]
  },
  {
   "cell_type": "code",
   "execution_count": 6,
   "metadata": {},
   "outputs": [],
   "source": [
    "def create_model_ANN():\n",
    "    model = Sequential()\n",
    "    model.add(Dense(30, input_dim=2, kernel_initializer='lecun_uniform', activation = 'relu'))\n",
    "    model.add(Dense(1, kernel_initializer='lecun_uniform', activation='sigmoid'))\n",
    "    model.compile(optimizer='adadelta', loss='binary_crossentropy', metrics=[metrics.binary_accuracy])\n",
    "    return model\n",
    "\n",
    "create_model_ANN().save('./Models/model_ANN_init.h5')"
   ]
  },
  {
   "cell_type": "code",
   "execution_count": 7,
   "metadata": {},
   "outputs": [
    {
     "name": "stdout",
     "output_type": "stream",
     "text": [
      "model_ANN_init.h5\t\t\t     model_baseline_prev.h5\n",
      "model_baseline_DeVries18_simplified_init.h5  model_DNN_init.h5\n"
     ]
    }
   ],
   "source": [
    "!ls ./Models"
   ]
  },
  {
   "cell_type": "code",
   "execution_count": null,
   "metadata": {},
   "outputs": [],
   "source": []
  }
 ],
 "metadata": {
  "kernelspec": {
   "display_name": "Python 3 (ipykernel)",
   "language": "python",
   "name": "python3"
  },
  "language_info": {
   "codemirror_mode": {
    "name": "ipython",
    "version": 3
   },
   "file_extension": ".py",
   "mimetype": "text/x-python",
   "name": "python",
   "nbconvert_exporter": "python",
   "pygments_lexer": "ipython3",
   "version": "3.7.13"
  }
 },
 "nbformat": 4,
 "nbformat_minor": 4
}
